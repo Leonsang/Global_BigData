{
 "cells": [
  {
   "cell_type": "markdown",
   "metadata": {},
   "source": [
    "# 🗂️ SESIÓN 1: HDFS OPERACIONES BÁSICAS\n",
    "## Introducción a HDFS\n",
    "\n",
    "### 🎯 **OBJETIVO**\n",
    "Aprender las operaciones básicas de HDFS mediante ejemplos prácticos\n",
    "\n",
    "### 📋 **CONTENIDO**\n",
    "- Comandos básicos de HDFS\n",
    "- Gestión de archivos y directorios\n",
    "- Verificación de operaciones"
   ]
  },
  {
   "cell_type": "code",
   "execution_count": null,
   "metadata": {},
   "source": [
    "# 🔧 CONFIGURACIÓN INICIAL\n",
    "import subprocess\n",
    "import os\n",
    "from hdfs import InsecureClient\n",
    "\n",
    "# Conectar a HDFS\n",
    "hdfs_client = InsecureClient('http://namenode:9870')\n",
    "\n",
    "print(\"🔗 Conexión HDFS establecida\")\n",
    "print(f\"📁 Directorio raíz: {hdfs_client.list('/')}\")\n",
    "\n",
    "print(\"✅ Configuración completada\")"
   ]
  },
  {
   "cell_type": "markdown",
   "metadata": {},
   "source": [
    "## 📝 EJERCICIO 1: Comandos Básicos\n",
    "\n",
    "Aprenderemos los comandos más utilizados en HDFS"
   ]
  },
  {
   "cell_type": "code",
   "execution_count": null,
   "metadata": {},
   "source": [
    "# 1.1 Listar directorio raíz\n",
    "print(\"📁 LISTANDO DIRECTORIO RAÍZ\")\n",
    "print(\"=======================\")\n",
    "\n",
    "try:\n",
    "    root_contents = hdfs_client.list('/')\n",
    "    print(\"Contenido del directorio raíz:\")\n",
    "    for item in root_contents:\n",
    "        print(f\"  - {item}\")\n",
    "except Exception as e:\n",
    "    print(f\"❌ Error: {e}\")\n",
    "\n",
    "print(\"\\n✅ Listado completado\")"
   ]
  },
  {
   "cell_type": "code",
   "execution_count": null,
   "metadata": {},
   "source": [
    "# 1.2 Crear directorio de trabajo\n",
    "print(\"📁 CREANDO DIRECTORIO DE TRABAJO\")\n",
    "print(\"===========================\")\n",
    "\n",
    "try:\n",
    "    # Crear directorio de práctica\n",
    "    practice_dir = '/practica_hdfs'\n",
    "    hdfs_client.makedirs(practice_dir)\n",
    "    print(f\"✅ Directorio {practice_dir} creado\")\n",
    "    \n",
    "    # Crear subdirectorios\n",
    "    subdirs = ['/datos', '/resultados', '/backup']\n",
    "    for subdir in subdirs:\n",
    "        full_path = f\"{practice_dir}{subdir}\"\n",
    "        hdfs_client.makedirs(full_path)\n",
    "        print(f\"✅ Subdirectorio {full_path} creado\")\n",
    "        \n",
    "except Exception as e:\n",
    "    print(f\"❌ Error: {e}\")\n",
    "\n",
    "print(\"\\n✅ Estructura de directorios creada\")"
   ]
  },
  {
   "cell_type": "markdown",
   "metadata": {},
   "source": [
    "## 📝 EJERCICIO 2: Gestión de Archivos\n",
    "\n",
    "Aprenderemos a subir, verificar y manipular archivos en HDFS"
   ]
  },
  {
   "cell_type": "code",
   "execution_count": null,
   "metadata": {},
   "source": [
    "# 2.1 Crear y subir archivo de ejemplo\n",
    "print(\"📄 CREANDO Y SUBIENDO ARCHIVO\")\n",
    "print(\"=========================\")\n",
    "\n",
    "try:\n",
    "    # Crear archivo local de ejemplo\n",
    "    local_file = 'ejemplo.txt'\n",
    "    with open(local_file, 'w') as f:\n",
    "        f.write('Este es un archivo de ejemplo para HDFS\\n')\n",
    "        f.write('Contiene múltiples líneas\\n')\n",
    "        f.write('Para probar operaciones básicas')\n",
    "    \n",
    "    # Subir archivo a HDFS\n",
    "    hdfs_path = f'{practice_dir}/datos/{local_file}'\n",
    "    hdfs_client.upload(hdfs_path, local_file)\n",
    "    print(f\"✅ Archivo subido a {hdfs_path}\")\n",
    "    \n",
    "    # Verificar archivo\n",
    "    file_status = hdfs_client.status(hdfs_path)\n",
    "    print(f\"📊 Tamaño del archivo: {file_status['length']} bytes\")\n",
    "    \n",
    "except Exception as e:\n",
    "    print(f\"❌ Error: {e}\")\n",
    "\n",
    "print(\"\\n✅ Operación completada\")"
   ]
  },
  {
   "cell_type": "code",
   "execution_count": null,
   "metadata": {},
   "source": [
    "# 2.2 Leer contenido del archivo\n",
    "print(\"📖 LEYENDO CONTENIDO DEL ARCHIVO\")\n",
    "print(\"============================\")\n",
    "\n",
    "try:\n",
    "    with hdfs_client.read(hdfs_path) as reader:\n",
    "        content = reader.read().decode('utf-8')\n",
    "        print(\"Contenido del archivo:\")\n",
    "        print(\"-------------------\")\n",
    "        print(content)\n",
    "        \n",
    "except Exception as e:\n",
    "    print(f\"❌ Error: {e}\")\n",
    "\n",
    "print(\"\\n✅ Lectura completada\")"
   ]
  },
  {
   "cell_type": "markdown",
   "metadata": {},
   "source": [
    "## 📝 EJERCICIO 3: Verificación y Limpieza\n",
    "\n",
    "Aprenderemos a verificar operaciones y limpiar recursos"
   ]
  },
  {
   "cell_type": "code",
   "execution_count": null,
   "metadata": {},
   "source": [
    "# 3.1 Verificar espacio y estado\n",
    "print(\"📊 VERIFICANDO ESPACIO Y ESTADO\")\n",
    "print(\"===========================\")\n",
    "\n",
    "try:\n",
    "    # Obtener estado del cluster\n",
    "    result = subprocess.run(['hdfs', 'dfsadmin', '-report'], \n",
    "                          capture_output=True, text=True)\n",
    "    \n",
    "    if result.returncode == 0:\n",
    "        print(\"Estado del cluster:\")\n",
    "        print(result.stdout)\n",
    "    else:\n",
    "        print(f\"❌ Error: {result.stderr}\")\n",
    "        \n",
    "except Exception as e:\n",
    "    print(f\"❌ Error: {e}\")\n",
    "\n",
    "print(\"\\n✅ Verificación completada\")"
   ]
  },
  {
   "cell_type": "code",
   "execution_count": null,
   "metadata": {},
   "source": [
    "# 3.2 Limpiar recursos\n",
    "print(\"🧹 LIMPIANDO RECURSOS\")\n",
    "print(\"===================\")\n",
    "\n",
    "try:\n",
    "    # Eliminar archivo local\n",
    "    if os.path.exists(local_file):\n",
    "        os.remove(local_file)\n",
    "        print(f\"✅ Archivo local {local_file} eliminado\")\n",
    "    \n",
    "    # Eliminar directorio de práctica\n",
    "    hdfs_client.delete(practice_dir, recursive=True)\n",
    "    print(f\"✅ Directorio {practice_dir} eliminado de HDFS\")\n",
    "    \n",
    "except Exception as e:\n",
    "    print(f\"❌ Error: {e}\")\n",
    "\n",
    "print(\"\\n✅ Limpieza completada\")"
   ]
  }
 ],
 "metadata": {
  "kernelspec": {
   "display_name": "Python 3",
   "language": "python",
   "name": "python3"
  },
  "language_info": {
   "codemirror_mode": {
    "name": "ipython",
    "version": 3
   },
   "file_extension": ".py",
   "mimetype": "text/x-python",
   "name": "python",
   "nbconvert_exporter": "python",
   "pygments_lexer": "ipython3",
   "version": "3.8.0"
  }
 },
 "nbformat": 4,
 "nbformat_minor": 4
} 